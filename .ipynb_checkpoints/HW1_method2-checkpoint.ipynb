{
 "cells": [
  {
   "cell_type": "code",
   "execution_count": 2,
   "id": "e09e42c3",
   "metadata": {},
   "outputs": [],
   "source": [
    "import numpy as np"
   ]
  },
  {
   "cell_type": "code",
   "execution_count": 12,
   "id": "6cad80df",
   "metadata": {},
   "outputs": [
    {
     "ename": "SyntaxError",
     "evalue": "invalid syntax (3255348285.py, line 49)",
     "output_type": "error",
     "traceback": [
      "\u001b[0;36m  File \u001b[0;32m\"/var/folders/ct/nyvlfpn11s1cq3sqt4vxv6lm0000gn/T/ipykernel_89755/3255348285.py\"\u001b[0;36m, line \u001b[0;32m49\u001b[0m\n\u001b[0;31m    if (relative_error(y0_poly, previous_y0_ploy) <= tolerance) and (y0_poly != previous_y0_ploy):\u001b[0m\n\u001b[0m                                                                                                 ^\u001b[0m\n\u001b[0;31mSyntaxError\u001b[0m\u001b[0;31m:\u001b[0m invalid syntax\n"
     ]
    }
   ],
   "source": [
    "def relative_error(current_approx, previous_approx):\n",
    "    return abs((current_approx - previous_approx) / current_approx) * 100\n",
    "\n",
    "\n",
    "def factorial(n):\n",
    "    f_sum = 1\n",
    "    for i in range(1, n + 1):\n",
    "        f_sum = f_sum * i\n",
    "    return f_sum\n",
    "\n",
    "\n",
    "def taylor_polynomial_of_cosine(x, a, order):\n",
    "    y = 0\n",
    "    for i in range(0, order + 1):\n",
    "        if i % 4 == 0:\n",
    "            y += ((np.cos(a) / factorial(i)) * ((x - a) ** i))\n",
    "        elif i % 4 == 1:\n",
    "            y += ((-np.sin(a) / factorial(i)) * ((x - a) ** i))\n",
    "        elif i % 4 == 2:\n",
    "            y += ((-np.cos(a) / factorial(i)) * ((x - a) ** i))\n",
    "        elif i % 4 == 3:\n",
    "            y += ((np.sin(a) / factorial(i)) * ((x - a) ** i))\n",
    "    return y\n",
    "\n",
    "\n",
    "# ---------------------------------------\n",
    "\n",
    "a = float(input(\"What point you want to generate the taylor polynomial?\\n\"))\n",
    "significant_figures = int(input(\"How many significant figures you want to get?\\n\"))\n",
    "x0 = float(input(\"What point you want to see?\\n\"))\n",
    "tolerance = 0.5 * (10 ** (2 - significant_figures))\n",
    "\n",
    "# --------------------------------------- set the environment of figure\n",
    "\n",
    "order = 0\n",
    "terminate = False\n",
    "\n",
    "while terminate == False:\n",
    "    \n",
    "    previous_y0_poly = taylor_polynomial_of_cosine(x0, a, order-1)\n",
    "    y0_poly = taylor_polynomial_of_cosine(x0, a, order)\n",
    "    y0_reference = np.cos(x0)\n",
    "    \n",
    "    if order >= 1:\n",
    "        print(relative_error(y0_poly, previous_y0_ploy) + \"\\t\")\n",
    "        \n",
    "    print(\"tolerance = %f\\t order = %d\\t y_ploy = %f\" % (tolerance, order, y0_ploy)\n",
    "    \n",
    "    if (relative_error(y0_poly, previous_y0_ploy) <= tolerance) and (y0_poly != previous_y0_ploy):\n",
    "          terminate = True\n",
    "    \n",
    "    order += 1\n",
    "\n",
    "# ---------------------------------------\n"
   ]
  },
  {
   "cell_type": "code",
   "execution_count": null,
   "id": "2db3435f",
   "metadata": {},
   "outputs": [],
   "source": []
  }
 ],
 "metadata": {
  "kernelspec": {
   "display_name": "Python 3 (ipykernel)",
   "language": "python",
   "name": "python3"
  },
  "language_info": {
   "codemirror_mode": {
    "name": "ipython",
    "version": 3
   },
   "file_extension": ".py",
   "mimetype": "text/x-python",
   "name": "python",
   "nbconvert_exporter": "python",
   "pygments_lexer": "ipython3",
   "version": "3.9.7"
  }
 },
 "nbformat": 4,
 "nbformat_minor": 5
}
